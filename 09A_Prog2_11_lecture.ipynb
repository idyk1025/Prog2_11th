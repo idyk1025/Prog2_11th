{
  "nbformat": 4,
  "nbformat_minor": 0,
  "metadata": {
    "colab": {
      "provenance": [],
      "include_colab_link": true
    },
    "kernelspec": {
      "name": "python3",
      "display_name": "Python 3"
    },
    "language_info": {
      "name": "python"
    }
  },
  "cells": [
    {
      "cell_type": "markdown",
      "metadata": {
        "id": "view-in-github",
        "colab_type": "text"
      },
      "source": [
        "<a href=\"https://colab.research.google.com/github/pine70403/Prog2_11th/blob/main/09A_Prog2_11_lecture.ipynb\" target=\"_parent\"><img src=\"https://colab.research.google.com/assets/colab-badge.svg\" alt=\"Open In Colab\"/></a>"
      ]
    },
    {
      "cell_type": "markdown",
      "source": [
        "\n",
        "09-A 2220167 福田  直央\n",
        "09-A 2220069 河村　琉翔\n",
        "09-A 2120226 吉田　響"
      ],
      "metadata": {
        "id": "cwIfC0QZQEZa"
      }
    },
    {
      "cell_type": "markdown",
      "source": [
        "# 問題1（初級）\n",
        "\n",
        "y=x^3+1 のグラフを図示してください．ただし，xは範囲−4≤x≤4, 公差1とし，for文などの繰り返し文は使用しないでください\n",
        "\n",
        "\n",
        "河村琉翔\n",
        "\n",
        "\n",
        "．"
      ],
      "metadata": {
        "id": "vJuD8pFRFZYI"
      }
    },
    {
      "cell_type": "code",
      "execution_count": null,
      "metadata": {
        "id": "OwHmC1mnFRKN",
        "colab": {
          "base_uri": "https://localhost:8080/",
          "height": 282
        },
        "outputId": "486ad468-bfd1-456d-d881-d4834b7b63d9"
      },
      "outputs": [
        {
          "output_type": "execute_result",
          "data": {
            "text/plain": [
              "<function matplotlib.pyplot.show(*args, **kw)>"
            ]
          },
          "metadata": {},
          "execution_count": 1
        },
        {
          "output_type": "display_data",
          "data": {
            "text/plain": [
              "<Figure size 432x288 with 1 Axes>"
            ],
            "image/png": "[encoded data removed]"
          },
          "metadata": {
            "needs_background": "light"
          }
        }
      ],
      "source": [
        "# ここに解答または解答例を記入する\n",
        "import numpy as np\n",
        "import matplotlib.pyplot as plt\n",
        "\n",
        "x=np.arange(-4.0,4.1,1)\n",
        "y=x**3+1\n",
        "plt.grid()\n",
        "plt.plot(x,y)\n",
        "plt.show\n"
      ]
    },
    {
      "cell_type": "markdown",
      "source": [
        "## 問題1解説\n",
        "\n",
        "np.arangeで範囲を指定してグラフを描く\n",
        "\n",
        "\n",
        "* 解説の執筆者の氏名を問題末尾に記入して下さい．複数人で作成した場合は連名で構いません．\n",
        "\n",
        "* 相手グループに問題を渡すときには，このファイルのコピーを作成し，解答例や解説を削除した上で，取得したリンクを共有する．"
      ],
      "metadata": {
        "id": "kal4elnlL_qX"
      }
    },
    {
      "cell_type": "markdown",
      "source": [
        "---\n",
        "# 問題2（中級）\n",
        "\n",
        "\n",
        "\n",
        "\n",
        "身長が175cm以上の選手のゴール数の合計を求めよ\n",
        "\n",
        "福田　直央"
      ],
      "metadata": {
        "id": "Emsxxb6mFxPK"
      }
    },
    {
      "cell_type": "code",
      "source": [
        "#まずこのセルを実行しなさい\n",
        "!wget \"https://drive.google.com/uc?export=download&id=10vpfTNC2HnmfZGFQ6kc9HsuEuQ62yN1G\" -O players2.csv"
      ],
      "metadata": {
        "colab": {
          "base_uri": "https://localhost:8080/"
        },
        "id": "qBaJgB6X2J0T",
        "outputId": "a14678b8-376f-4d7b-8874-377a844de551"
      },
      "execution_count": null,
      "outputs": [
        {
          "output_type": "stream",
          "name": "stdout",
          "text": [
            "--2022-12-15 08:25:55--  https://drive.google.com/uc?export=download&id=10vpfTNC2HnmfZGFQ6kc9HsuEuQ62yN1G\n",
            "Resolving drive.google.com (drive.google.com)... 108.177.13.113, 108.177.13.100, 108.177.13.101, ...\n",
            "Connecting to drive.google.com (drive.google.com)|108.177.13.113|:443... connected.\n",
            "HTTP request sent, awaiting response... 303 See Other\n",
            "Location: https://doc-08-10-docs.googleusercontent.com/docs/securesc/ha0ro937gcuc7l7deffksulhg5h7mbp1/b3q4papebgdo5sdre7ogh3cc9dalbnbp/1671092700000/13477778096128204812/*/10vpfTNC2HnmfZGFQ6kc9HsuEuQ62yN1G?e=download&uuid=a983b7ba-6624-4978-8334-c4c4ffe51f6a [following]\n",
            "Warning: wildcards not supported in HTTP.\n",
            "--2022-12-15 08:25:56--  https://doc-08-10-docs.googleusercontent.com/docs/securesc/ha0ro937gcuc7l7deffksulhg5h7mbp1/b3q4papebgdo5sdre7ogh3cc9dalbnbp/1671092700000/13477778096128204812/*/10vpfTNC2HnmfZGFQ6kc9HsuEuQ62yN1G?e=download&uuid=a983b7ba-6624-4978-8334-c4c4ffe51f6a\n",
            "Resolving doc-08-10-docs.googleusercontent.com (doc-08-10-docs.googleusercontent.com)... 142.251.107.132, 2607:f8b0:400c:c32::84\n",
            "Connecting to doc-08-10-docs.googleusercontent.com (doc-08-10-docs.googleusercontent.com)|142.251.107.132|:443... connected.\n",
            "HTTP request sent, awaiting response... 200 OK\n",
            "Length: 791 [text/csv]\n",
            "Saving to: ‘players2.csv’\n",
            "\n",
            "players2.csv        100%[===================>]     791  --.-KB/s    in 0s      \n",
            "\n",
            "2022-12-15 08:25:56 (30.1 MB/s) - ‘players2.csv’ saved [791/791]\n",
            "\n"
          ]
        }
      ]
    },
    {
      "cell_type": "code",
      "source": [
        "# ここに解答または解答例を記入する\n",
        "import pandas as pd\n",
        "df = pd.read_csv('players2.csv')\n",
        "total =df[df['身長']>=175]['ゴール数'].sum()\n",
        "print(total)\n",
        "\n",
        "\n"
      ],
      "metadata": {
        "id": "-PVGsn4Y2Qhm"
      },
      "execution_count": null,
      "outputs": []
    },
    {
      "cell_type": "markdown",
      "source": [
        "## 問題2解説\n",
        "解説はここに記入する．\n",
        "\n",
        "* 解説の執筆者の氏名を問題末尾に記入して下さい．複数人で作成した場合は連名で構いません．\n",
        "\n",
        "* 相手グループに問題を渡すときには，このファイルのコピーを作成し，解答例や解説を削除した上で，取得したリンクを共有する．"
      ],
      "metadata": {
        "id": "KiOvfBs2MfOW"
      }
    },
    {
      "cell_type": "code",
      "source": [],
      "metadata": {
        "id": "ggU2hcx--966"
      },
      "execution_count": null,
      "outputs": []
    },
    {
      "cell_type": "markdown",
      "source": [
        "---\n",
        "# 問題3（上級）\n",
        "\n",
        "Turtleライブラリを用いて，四角形を描け． 変数 n = 4 として，for文を用いて１辺を描く処理を n 回繰り返すプログラムにすること\n",
        "\n",
        "\n",
        "河村琉翔\n",
        "吉田響\n",
        "福田直央\n",
        "* 問題提案者の氏名を問題末尾に記入して下さい．複数人で作成した場合は連名で構いません．"
      ],
      "metadata": {
        "id": "YbyVRA8RFxcM"
      }
    },
    {
      "cell_type": "code",
      "source": [
        "#実行してください\n",
        "!pip3 install ColabTurtlePlus\n",
        "from ColabTurtlePlus.Turtle import *"
      ],
      "metadata": {
        "id": "k8lP75XSFzKH",
        "colab": {
          "base_uri": "https://localhost:8080/"
        },
        "outputId": "09b474c2-3e08-4f59-ce1d-e401ddc3dfbc"
      },
      "execution_count": null,
      "outputs": [
        {
          "output_type": "stream",
          "name": "stdout",
          "text": [
            "Looking in indexes: https://pypi.org/simple, https://us-python.pkg.dev/colab-wheels/public/simple/\n",
            "Collecting ColabTurtlePlus\n",
            "  Downloading ColabTurtlePlus-2.0.1-py3-none-any.whl (31 kB)\n",
            "Installing collected packages: ColabTurtlePlus\n",
            "Successfully installed ColabTurtlePlus-2.0.1\n",
            "Put clearscreen() as the first line in a cell (after the import command) to re-run turtle commands in the cell\n"
          ]
        }
      ]
    },
    {
      "cell_type": "code",
      "source": [
        "clearscreen()\n",
        "setup(300,300)\n",
        "turtle1=Turtle()\n",
        "turtle1.shape(\"turtle\")\n",
        "turtle1.speed(2)\n",
        "\n",
        "for i in range(4):\n",
        " turtle1.forward(100)\n",
        " turtle1.left(90)"
      ],
      "metadata": {
        "colab": {
          "base_uri": "https://localhost:8080/",
          "height": 322
        },
        "id": "-IlKwXes9a4l",
        "outputId": "900e943a-7e38-4707-9b09-9db1e809e1f2"
      },
      "execution_count": null,
      "outputs": [
        {
          "output_type": "display_data",
          "data": {
            "text/plain": [
              "<IPython.core.display.HTML object>"
            ],
            "text/html": [
              "\n",
              "      <svg width=\"300\" height=\"300\">  \n",
              "        <rect width=\"100%\" height=\"100%\" style=\"fill:white;stroke:;stroke-width:1\"/>\n",
              "        \n",
              "        \n",
              "        <line x1=\"150.0\" y1=\"150.0\" x2=\"250.0\" y2=\"150.0\" stroke-linecap=\"round\" style=\"stroke:black;stroke-width:1\" /><line x1=\"250.0\" y1=\"150.0\" x2=\"250.0\" y2=\"50.0\" stroke-linecap=\"round\" style=\"stroke:black;stroke-width:1\" /><line x1=\"250.0\" y1=\"50.0\" x2=\"150.0\" y2=\"50.0\" stroke-linecap=\"round\" style=\"stroke:black;stroke-width:1\" /><line x1=\"150.0\" y1=\"50.0\" x2=\"150.0\" y2=\"150.0\" stroke-linecap=\"round\" style=\"stroke:black;stroke-width:1\" />\n",
              "        \n",
              "        \n",
              "        <g id=\"turtle\" visibility=\"visible\" transform=\"rotate(180,150.0,150.0) translate(150.0, 150.0)\">\n",
              "<path style=\"stroke:black;fill-rule:evenodd;fill:black;fill-opacity:1;\" transform=\"skewX(0) scale(1,1)\" d=\"m 1.1536693,-18.56101 c -2.105469,1.167969 -3.203125,3.441407 -3.140625,6.5 l 0.011719,0.519532 -0.300782,-0.15625 c -1.308594,-0.671875 -2.828125,-0.824219 -4.378906,-0.429688 -1.9375,0.484375 -3.8906253,2.089844 -6.0117193,4.9257825 -1.332031,1.785156 -1.714843,2.644531 -1.351562,3.035156 l 0.113281,0.125 h 0.363281 c 0.71875,0 1.308594,-0.265625 4.6679693,-2.113282 1.199219,-0.660156 2.183594,-1.199218 2.191406,-1.199218 0.00781,0 -0.023437,0.089844 -0.074218,0.195312 -0.472657,1.058594 -1.046876,2.785156 -1.335938,4.042969 -1.054688,4.574219 -0.351562,8.453125 2.101562,11.582031 0.28125,0.355469 0.292969,0.253906 -0.097656,0.722656 -2.046875,2.4609375 -3.027344,4.8984375 -2.734375,6.8046875 0.050781,0.339844 0.042969,0.335938 0.679688,0.335938 2.023437,0 4.15625,-1.316407 6.21875,-3.835938 0.222656,-0.269531 0.191406,-0.261719 0.425781,-0.113281 0.730469,0.46875 2.460938,1.390625 2.613281,1.390625 0.160157,0 1.765625,-0.753906 2.652344,-1.246094 0.167969,-0.09375 0.308594,-0.164062 0.308594,-0.160156 0.066406,0.105468 0.761719,0.855468 1.085937,1.171875 1.613282,1.570312 3.339844,2.402343 5.3593747,2.570312 0.324219,0.02734 0.355469,0.0078 0.425781,-0.316406 0.375,-1.742187 -0.382812,-4.058594 -2.1445307,-6.5585935 l -0.320312,-0.457031 0.15625,-0.183594 c 3.2460927,-3.824218 3.4335927,-9.08593704 0.558593,-15.816406 l -0.050781,-0.125 1.7382807,0.859375 c 3.585938,1.773437 4.371094,2.097656 5.085938,2.097656 0.945312,0 0.75,-0.863281 -0.558594,-2.507812 C 11.458356,-11.838353 8.3333563,-13.268041 4.8607003,-11.721166 l -0.363281,0.164063 0.019531,-0.09375 c 0.121094,-0.550781 0.183594,-1.800781 0.121094,-2.378907 -0.203125,-1.867187 -1.035157,-3.199218 -2.695313,-4.308593 -0.523437,-0.351563 -0.546875,-0.355469 -0.789062,-0.222657\" />\n",
              "<animateTransform id = \"one\" attributeName=\"transform\" \n",
              "                      type=\"scale\"\n",
              "                      from=\"1 1\" to=\"1 1\"\n",
              "                      begin=\"0s\" dur=\"0.01s\"\n",
              "                      repeatCount=\"1\"\n",
              "                      additive=\"sum\"\n",
              "                      fill=\"freeze\"\n",
              "                /><animateTransform attributeName=\"transform\"\n",
              "                    type=\"rotate\"\n",
              "                    from=\"0 0 0\" to =\"-90 0 0\"\n",
              "                    begin=\"one.end\" dur=\"0.8s\"\n",
              "                    repeatCount=\"1\"\n",
              "                    additive=\"sum\"\n",
              "                    fill=\"freeze\"\n",
              "                /></g>\n",
              "      </svg>\n",
              "    "
            ]
          },
          "metadata": {}
        }
      ]
    },
    {
      "cell_type": "markdown",
      "source": [
        "## 問題3解説\n",
        "for文で4回繰り返す\n",
        "\n",
        "* 解説の執筆者の氏名を問題末尾に記入して下さい．複数人で作成した場合は連名で構いません．\n",
        "\n",
        "* 相手グループに問題を渡すときには，このファイルのコピーを作成し，解答例や解説を削除した上で，取得したリンクを共有する．"
      ],
      "metadata": {
        "id": "xTMQ7LZxMmTb"
      }
    },
    {
      "cell_type": "markdown",
      "source": [
        "---\n",
        "# 質問1（課題作成者（グループ）として回答，要署名）\n",
        "\n",
        "作成した問題をどのように考えて初級・中級・上級に割り当てたか，その理由を回答欄に記入すること．"
      ],
      "metadata": {
        "id": "ghA1unOrZPz8"
      }
    },
    {
      "cell_type": "markdown",
      "source": [
        "## 回答欄（質問1）\n",
        "\n",
        "ここに質問1の回答を記入して下さい．\n",
        "\n",
        "* 回答作成者の氏名を末尾に記入して下さい．複数人で作成した場合は連名で構いません．"
      ],
      "metadata": {
        "id": "aNL_ZQ68Zsh8"
      }
    },
    {
      "cell_type": "markdown",
      "source": [
        "---\n",
        "# 質問2（相手の課題への解答者（個人）として回答）\n",
        "\n",
        "問題1～3を解答して，勉強になった点や身に付いた点などを回答欄に記入すること．"
      ],
      "metadata": {
        "id": "w8gdv8SRorcA"
      }
    },
    {
      "cell_type": "markdown",
      "source": [
        "## 回答欄（質問2）\n",
        "\n",
        "ここに質問2の回答を記入して下さい．"
      ],
      "metadata": {
        "id": "9Zqiw6TNpn3Q"
      }
    },
    {
      "cell_type": "markdown",
      "source": [
        "---\n",
        "# 注意事項　提出について\n",
        "以下の手順で提出すること．\n",
        "\n",
        "* メニューの「ファイル」-「ドライブにコピーを保存」を選択し，自分のGoogleドライブに課題を保存する．\n",
        "* メニューの「ファイル」-「ダウンロード」-「.ipynbファイルをダウンロード」を選択し，提出用ファイル(例えばProg2_GroupWork.ipynb)をダウンロードする．\n",
        "* ファイル名を次のように変更する．ファイル名にはプログラミングIIの週の数字を入れること．例えば，11週であれば以下のように指定する．\n",
        "1. 相手グループの問題を解答したファイルは，「(学籍番号)-Prog2_11_kadai.ipynb」\n",
        "2. 自分のグループで作成した問題と解説のファイルは「(学籍番号)-Prog2_11_lecture.ipynb」\n",
        "* WebClassの所定の場所で提出する．上記1と2のファイルの提出先が異なるので，注意すること．\n",
        "* 個人で提出する上記1，2以外に，グループの代表者のみが2のファイルをグループメンバーで１つにまとめたファイルを提出する必要があるので忘れないでください．ファイル名は(班番号)-Prog2_11_lecture.ipynbとする．例えば，12週の内容で10班A\n",
        "グループであれば，10A-Prog2_12_lecture.ipynbとする．"
      ],
      "metadata": {
        "id": "HHn948WCNHn3"
      }
    }
  ]
}