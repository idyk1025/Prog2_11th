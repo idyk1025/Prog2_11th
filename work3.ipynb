{
  "nbformat": 4,
  "nbformat_minor": 0,
  "metadata": {
    "colab": {
      "provenance": [],
      "mount_file_id": "1Vg4AHA5SCDS9lnZBiMPkzsx7F9y5in_j",
      "authorship_tag": "ABX9TyOViX4EppJVjhYUitti1jC2",
      "include_colab_link": true
    },
    "kernelspec": {
      "name": "python3",
      "display_name": "Python 3"
    },
    "language_info": {
      "name": "python"
    }
  },
  "cells": [
    {
      "cell_type": "markdown",
      "metadata": {
        "id": "view-in-github",
        "colab_type": "text"
      },
      "source": [
        "<a href=\"https://colab.research.google.com/github/aysdk0606/Prog2_11th/blob/main/work3.ipynb\" target=\"_parent\"><img src=\"https://colab.research.google.com/assets/colab-badge.svg\" alt=\"Open In Colab\"/></a>"
      ]
    },
    {
      "cell_type": "markdown",
      "source": [
        "第14回　turtle, opencvを使ったプログラムの作成\n",
        "\n",
        "opencvを使って読み込まれた画像を徐々にモザイク処理をするアニメーションを作成するプログラム"
      ],
      "metadata": {
        "id": "X9gNneKe3XkL"
      }
    },
    {
      "cell_type": "code",
      "source": [
        "!wget \"https://drive.google.com/uc?export=download&id=15ECv_cqrS03exqXetGctjaL14iTd4gbq\" -O image_2.jpg"
      ],
      "metadata": {
        "colab": {
          "base_uri": "https://localhost:8080/"
        },
        "id": "QlYFFRrtHi76",
        "outputId": "b5e23915-8b65-4f09-a358-7f15c1ab188c"
      },
      "execution_count": 25,
      "outputs": [
        {
          "output_type": "stream",
          "name": "stdout",
          "text": [
            "--2023-01-19 08:51:02--  https://drive.google.com/uc?export=download&id=15ECv_cqrS03exqXetGctjaL14iTd4gbq\n",
            "Resolving drive.google.com (drive.google.com)... 74.125.124.102, 74.125.124.139, 74.125.124.113, ...\n",
            "Connecting to drive.google.com (drive.google.com)|74.125.124.102|:443... connected.\n",
            "HTTP request sent, awaiting response... 303 See Other\n",
            "Location: https://doc-00-8g-docs.googleusercontent.com/docs/securesc/ha0ro937gcuc7l7deffksulhg5h7mbp1/lhcbvnlqg2ismht2erit9dsbhjgj2c8q/1674118200000/09471176606170325304/*/15ECv_cqrS03exqXetGctjaL14iTd4gbq?e=download&uuid=210382f6-6f50-4a16-b360-dcb770ad1ab1 [following]\n",
            "Warning: wildcards not supported in HTTP.\n",
            "--2023-01-19 08:51:02--  https://doc-00-8g-docs.googleusercontent.com/docs/securesc/ha0ro937gcuc7l7deffksulhg5h7mbp1/lhcbvnlqg2ismht2erit9dsbhjgj2c8q/1674118200000/09471176606170325304/*/15ECv_cqrS03exqXetGctjaL14iTd4gbq?e=download&uuid=210382f6-6f50-4a16-b360-dcb770ad1ab1\n",
            "Resolving doc-00-8g-docs.googleusercontent.com (doc-00-8g-docs.googleusercontent.com)... 74.125.132.132, 2607:f8b0:4001:c00::84\n",
            "Connecting to doc-00-8g-docs.googleusercontent.com (doc-00-8g-docs.googleusercontent.com)|74.125.132.132|:443... connected.\n",
            "HTTP request sent, awaiting response... 200 OK\n",
            "Length: 12492 (12K) [image/webp]\n",
            "Saving to: ‘image_2.jpg’\n",
            "\n",
            "image_2.jpg         100%[===================>]  12.20K  --.-KB/s    in 0.001s  \n",
            "\n",
            "2023-01-19 08:51:02 (19.1 MB/s) - ‘image_2.jpg’ saved [12492/12492]\n",
            "\n"
          ]
        }
      ]
    },
    {
      "cell_type": "code",
      "execution_count": 26,
      "metadata": {
        "id": "wiCx_Rr03Udc"
      },
      "outputs": [],
      "source": [
        "from PIL import Image\n",
        "import cv2\n",
        "\n",
        "def mosaic_pic(pic,rate):\n",
        "  small_pic=cv2.resize(pic,None,fx=rate,fy=rate,interpolation=cv2.INTER_NEAREST)\n",
        "  return cv2.resize(small_pic,pic.shape[:2][::-1],interpolation=cv2.INTER_NEAREST)\n",
        "\n",
        "pic=cv2.cvtColor(cv2.imread('image_2.jpg'),cv2.COLOR_BGR2RGB)\n",
        "pics=[Image.fromarray(mosaic_pic(pic,1/i)) for i in range(1,25)]\n",
        "pics+=pics[-2::-1]+[Image.fromarray(pic)]\n",
        "pics[0].save('sample_file.gif',save_all=True,append_images=pics[1:],loop=0)\n",
        "#保存されたファイルをダブルクリックするとアニメーションが流れます"
      ]
    }
  ]
}